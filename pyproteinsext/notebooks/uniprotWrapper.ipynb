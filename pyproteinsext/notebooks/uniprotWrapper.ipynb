{
 "cells": [
  {
   "cell_type": "code",
   "execution_count": null,
   "metadata": {
    "collapsed": false
   },
   "outputs": [],
   "source": [
    "%matplotlib inline\n",
    "import sys, os\n",
    "sys.path.append(\"/Users/guillaumelaunay/work/DVL/python3/pyproteinsExt/src\")\n",
    "sys.path.append(\"/Users/guillaumelaunay/work/DVL/python3/pyproteins/src\")\n",
    "%load_ext autoreload"
   ]
  },
  {
   "cell_type": "markdown",
   "metadata": {},
   "source": [
    "### Define local uniprotfile repository\n",
    "### Define proxy settings"
   ]
  },
  {
   "cell_type": "code",
   "execution_count": null,
   "metadata": {
    "collapsed": false
   },
   "outputs": [],
   "source": [
    "%autoreload 2\n",
    "import pyproteinsExt.uniprot as up\n",
    "\n",
    "uColl = up.getUniprotCollection()\n",
    "uColl.setCache(location='/Users/guillaumelaunay/work/data/uniprot')\n",
    "up.proxySetting(https=\"http://ftprox.ibcp.fr:3128\", http=\"http://ftprox.ibcp.fr:3128\")"
   ]
  },
  {
   "cell_type": "code",
   "execution_count": null,
   "metadata": {
    "collapsed": false
   },
   "outputs": [],
   "source": [
    "u = uColl.get(\"P98160\")"
   ]
  },
  {
   "cell_type": "code",
   "execution_count": null,
   "metadata": {
    "collapsed": false
   },
   "outputs": [],
   "source": [
    "import json\n",
    "json.dumps(u)"
   ]
  },
  {
   "cell_type": "markdown",
   "metadata": {
    "collapsed": true
   },
   "source": [
    "### Print functional annotation information"
   ]
  },
  {
   "cell_type": "code",
   "execution_count": null,
   "metadata": {
    "collapsed": false
   },
   "outputs": [],
   "source": [
    "print(u.MIM)\n",
    "print(u.hasMIM(\"142461\"))\n",
    "print(u.GO)\n",
    "print(u.hasGO(\"GO:0005605\"))"
   ]
  },
  {
   "cell_type": "code",
   "execution_count": null,
   "metadata": {
    "collapsed": false
   },
   "outputs": [],
   "source": [
    "import json\n",
    "json.dumps(u, encoder=pyproteinsExt.EntryEncoder)"
   ]
  },
  {
   "cell_type": "markdown",
   "metadata": {
    "collapsed": true
   },
   "source": [
    "### Print position information"
   ]
  },
  {
   "cell_type": "code",
   "execution_count": null,
   "metadata": {
    "collapsed": false
   },
   "outputs": [],
   "source": [
    "print(u.pos(230))"
   ]
  }
 ],
 "metadata": {
  "kernelspec": {
   "display_name": "python3 (p=3.6)",
   "language": "python",
   "name": "python3"
  },
  "language_info": {
   "codemirror_mode": {
    "name": "ipython",
    "version": 3
   },
   "file_extension": ".py",
   "mimetype": "text/x-python",
   "name": "python",
   "nbconvert_exporter": "python",
   "pygments_lexer": "ipython3",
   "version": "3.6.2"
  }
 },
 "nbformat": 4,
 "nbformat_minor": 1
}
